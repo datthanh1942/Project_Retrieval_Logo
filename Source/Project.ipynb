{
  "cells": [
    {
      "cell_type": "code",
      "execution_count": 1,
      "metadata": {
        "id": "Mb9yIPmCV9q0",
        "colab": {
          "base_uri": "https://localhost:8080/"
        },
        "outputId": "085a4175-53c4-4993-d189-d53fad1b0bed"
      },
      "outputs": [
        {
          "output_type": "stream",
          "name": "stdout",
          "text": [
            "Mounted at /content/drive\n"
          ]
        }
      ],
      "source": [
        "from google.colab import drive\n",
        "drive.mount('/content/drive')"
      ]
    },
    {
      "cell_type": "code",
      "source": [
        "!pip install ultralytics"
      ],
      "metadata": {
        "colab": {
          "base_uri": "https://localhost:8080/"
        },
        "id": "WbILwCLuY2Uh",
        "outputId": "7395b7c4-0253-47f1-acc8-4e073b81172e"
      },
      "execution_count": 2,
      "outputs": [
        {
          "output_type": "stream",
          "name": "stdout",
          "text": [
            "Collecting ultralytics\n",
            "  Downloading ultralytics-8.0.157-py3-none-any.whl (611 kB)\n",
            "\u001b[2K     \u001b[90m━━━━━━━━━━━━━━━━━━━━━━━━━━━━━━━━━━━━━━━\u001b[0m \u001b[32m611.8/611.8 kB\u001b[0m \u001b[31m5.1 MB/s\u001b[0m eta \u001b[36m0:00:00\u001b[0m\n",
            "\u001b[?25hRequirement already satisfied: matplotlib>=3.2.2 in /usr/local/lib/python3.10/dist-packages (from ultralytics) (3.7.1)\n",
            "Requirement already satisfied: numpy>=1.22.2 in /usr/local/lib/python3.10/dist-packages (from ultralytics) (1.23.5)\n",
            "Requirement already satisfied: opencv-python>=4.6.0 in /usr/local/lib/python3.10/dist-packages (from ultralytics) (4.8.0.76)\n",
            "Requirement already satisfied: pillow>=7.1.2 in /usr/local/lib/python3.10/dist-packages (from ultralytics) (9.4.0)\n",
            "Requirement already satisfied: pyyaml>=5.3.1 in /usr/local/lib/python3.10/dist-packages (from ultralytics) (6.0.1)\n",
            "Requirement already satisfied: requests>=2.23.0 in /usr/local/lib/python3.10/dist-packages (from ultralytics) (2.31.0)\n",
            "Requirement already satisfied: scipy>=1.4.1 in /usr/local/lib/python3.10/dist-packages (from ultralytics) (1.10.1)\n",
            "Requirement already satisfied: torch>=1.8.0 in /usr/local/lib/python3.10/dist-packages (from ultralytics) (2.0.1+cu118)\n",
            "Requirement already satisfied: torchvision>=0.9.0 in /usr/local/lib/python3.10/dist-packages (from ultralytics) (0.15.2+cu118)\n",
            "Requirement already satisfied: tqdm>=4.64.0 in /usr/local/lib/python3.10/dist-packages (from ultralytics) (4.66.1)\n",
            "Requirement already satisfied: pandas>=1.1.4 in /usr/local/lib/python3.10/dist-packages (from ultralytics) (1.5.3)\n",
            "Requirement already satisfied: seaborn>=0.11.0 in /usr/local/lib/python3.10/dist-packages (from ultralytics) (0.12.2)\n",
            "Requirement already satisfied: psutil in /usr/local/lib/python3.10/dist-packages (from ultralytics) (5.9.5)\n",
            "Requirement already satisfied: py-cpuinfo in /usr/local/lib/python3.10/dist-packages (from ultralytics) (9.0.0)\n",
            "Requirement already satisfied: contourpy>=1.0.1 in /usr/local/lib/python3.10/dist-packages (from matplotlib>=3.2.2->ultralytics) (1.1.0)\n",
            "Requirement already satisfied: cycler>=0.10 in /usr/local/lib/python3.10/dist-packages (from matplotlib>=3.2.2->ultralytics) (0.11.0)\n",
            "Requirement already satisfied: fonttools>=4.22.0 in /usr/local/lib/python3.10/dist-packages (from matplotlib>=3.2.2->ultralytics) (4.42.0)\n",
            "Requirement already satisfied: kiwisolver>=1.0.1 in /usr/local/lib/python3.10/dist-packages (from matplotlib>=3.2.2->ultralytics) (1.4.4)\n",
            "Requirement already satisfied: packaging>=20.0 in /usr/local/lib/python3.10/dist-packages (from matplotlib>=3.2.2->ultralytics) (23.1)\n",
            "Requirement already satisfied: pyparsing>=2.3.1 in /usr/local/lib/python3.10/dist-packages (from matplotlib>=3.2.2->ultralytics) (3.1.1)\n",
            "Requirement already satisfied: python-dateutil>=2.7 in /usr/local/lib/python3.10/dist-packages (from matplotlib>=3.2.2->ultralytics) (2.8.2)\n",
            "Requirement already satisfied: pytz>=2020.1 in /usr/local/lib/python3.10/dist-packages (from pandas>=1.1.4->ultralytics) (2023.3)\n",
            "Requirement already satisfied: charset-normalizer<4,>=2 in /usr/local/lib/python3.10/dist-packages (from requests>=2.23.0->ultralytics) (3.2.0)\n",
            "Requirement already satisfied: idna<4,>=2.5 in /usr/local/lib/python3.10/dist-packages (from requests>=2.23.0->ultralytics) (3.4)\n",
            "Requirement already satisfied: urllib3<3,>=1.21.1 in /usr/local/lib/python3.10/dist-packages (from requests>=2.23.0->ultralytics) (2.0.4)\n",
            "Requirement already satisfied: certifi>=2017.4.17 in /usr/local/lib/python3.10/dist-packages (from requests>=2.23.0->ultralytics) (2023.7.22)\n",
            "Requirement already satisfied: filelock in /usr/local/lib/python3.10/dist-packages (from torch>=1.8.0->ultralytics) (3.12.2)\n",
            "Requirement already satisfied: typing-extensions in /usr/local/lib/python3.10/dist-packages (from torch>=1.8.0->ultralytics) (4.7.1)\n",
            "Requirement already satisfied: sympy in /usr/local/lib/python3.10/dist-packages (from torch>=1.8.0->ultralytics) (1.12)\n",
            "Requirement already satisfied: networkx in /usr/local/lib/python3.10/dist-packages (from torch>=1.8.0->ultralytics) (3.1)\n",
            "Requirement already satisfied: jinja2 in /usr/local/lib/python3.10/dist-packages (from torch>=1.8.0->ultralytics) (3.1.2)\n",
            "Requirement already satisfied: triton==2.0.0 in /usr/local/lib/python3.10/dist-packages (from torch>=1.8.0->ultralytics) (2.0.0)\n",
            "Requirement already satisfied: cmake in /usr/local/lib/python3.10/dist-packages (from triton==2.0.0->torch>=1.8.0->ultralytics) (3.27.2)\n",
            "Requirement already satisfied: lit in /usr/local/lib/python3.10/dist-packages (from triton==2.0.0->torch>=1.8.0->ultralytics) (16.0.6)\n",
            "Requirement already satisfied: six>=1.5 in /usr/local/lib/python3.10/dist-packages (from python-dateutil>=2.7->matplotlib>=3.2.2->ultralytics) (1.16.0)\n",
            "Requirement already satisfied: MarkupSafe>=2.0 in /usr/local/lib/python3.10/dist-packages (from jinja2->torch>=1.8.0->ultralytics) (2.1.3)\n",
            "Requirement already satisfied: mpmath>=0.19 in /usr/local/lib/python3.10/dist-packages (from sympy->torch>=1.8.0->ultralytics) (1.3.0)\n",
            "Installing collected packages: ultralytics\n",
            "Successfully installed ultralytics-8.0.157\n"
          ]
        }
      ]
    },
    {
      "cell_type": "code",
      "source": [
        "import os\n",
        "\n",
        "from ultralytics import YOLO\n",
        "import cv2\n",
        "from PIL import Image, ImageDraw\n",
        "import numpy as np\n",
        "import matplotlib.pyplot as plt\n",
        "\n",
        "from tqdm import tqdm\n",
        "from datetime import datetime\n",
        "from sklearn.cluster import KMeans\n",
        "from skimage.feature import canny\n",
        "\n",
        "import pickle\n",
        "from torchvision import models, transforms\n",
        "import torch\n",
        "import torch.nn as nn"
      ],
      "metadata": {
        "id": "LQrZMgo9Y6If"
      },
      "execution_count": 3,
      "outputs": []
    },
    {
      "cell_type": "markdown",
      "source": [
        "DETECT LOGO FROM THE IMAGE"
      ],
      "metadata": {
        "id": "cD2Fe8GmZmgZ"
      }
    },
    {
      "cell_type": "code",
      "execution_count": 4,
      "metadata": {
        "id": "6r3RBpLKBHZo"
      },
      "outputs": [],
      "source": [
        "model_path = ('/content/drive/MyDrive/yolo/runs/detect/train/weights/last.pt')\n",
        "\n",
        "# Load a model\n",
        "model = YOLO(model_path)  # load a custom model\n",
        "\n",
        "threshold = 0.5\n",
        "def pred(img_path):\n",
        "  frame = Image.open(img_path)\n",
        "\n",
        "  frame1 = np.asarray(frame)\n",
        "  results = model(frame1)[0]\n",
        "  # img1 = ImageDraw.Draw(frame)\n",
        "\n",
        "  for result in results.boxes.data.tolist():\n",
        "    row = []\n",
        "    column = []\n",
        "    x1, y1, x2, y2, score, class_id = result\n",
        "\n",
        "    if score > threshold:\n",
        "        cv2.rectangle(frame1, (int(x1), int(y1)), (int(x2), int(y2)), (0, 255, 0), 4)\n",
        "        cv2.putText(frame1, results.names[int(class_id)].upper() + \": \" + str(round(score, 2)), (int(x1), int(y1 - 10)),\n",
        "                    cv2.FONT_HERSHEY_SIMPLEX, 1.3, (0, 255, 0), 3, cv2.LINE_AA)\n",
        "        row.append(int(x1))\n",
        "        row.append(int(x2))\n",
        "        column.append(int(y1))\n",
        "        column.append(int(y2))\n",
        "\n",
        "  plt.imshow(frame1)\n",
        "  return row, column\n",
        "\n",
        "def crop_save(img_path,row,end_column):\n",
        "  img = Image.open(img_path)\n",
        "  img = img.crop((row[0],column[0],row[1],column[1]))\n",
        "  img.save('crop.jpg')"
      ]
    },
    {
      "cell_type": "code",
      "source": [
        "#Detect logo in the image\n",
        "row, column = pred(\"/content/lamborghini.jpg\")\n",
        "#Crop logo detected and save as file\n",
        "crop_save(\"/content/lamborghini.jpg\",row,column)"
      ],
      "metadata": {
        "colab": {
          "base_uri": "https://localhost:8080/",
          "height": 399
        },
        "id": "E3yX4CjLZPkZ",
        "outputId": "646f5a10-db8f-4c3b-cb33-a119ecd014b5"
      },
      "execution_count": 5,
      "outputs": [
        {
          "output_type": "stream",
          "name": "stderr",
          "text": [
            "\n",
            "0: 384x640 1 logo, 164.4ms\n",
            "Speed: 18.9ms preprocess, 164.4ms inference, 41.1ms postprocess per image at shape (1, 3, 384, 640)\n"
          ]
        },
        {
          "output_type": "display_data",
          "data": {
            "text/plain": [
              "<Figure size 640x480 with 1 Axes>"
            ],
            "image/png": "[encoded data removed]"
          },
          "metadata": {}
        }
      ]
    },
    {
      "cell_type": "markdown",
      "source": [
        "EXTRACT FEATURES DATASET"
      ],
      "metadata": {
        "id": "MIyPXntcZsgI"
      }
    },
    {
      "cell_type": "code",
      "source": [
        "def canny_filter(img):\n",
        "  gray = cv2.cvtColor(img, cv2.COLOR_RGB2GRAY)\n",
        "  edge = canny(gray)\n",
        "  edge = edge.astype(np.int16)\n",
        "  edge = np.repeat(edge[..., np.newaxis], 3, -1)\n",
        "  return edge\n",
        "\n",
        "class FeatureExtractor:\n",
        "    def __init__(self):\n",
        "        # Use MobileNet V2 as the architecture and ImageNet for the weight\n",
        "        self.model = models.mobilenet_v3_small(pretrained=True)\n",
        "        # Remove the last layer (output layer)\n",
        "        self.model.classifier = nn.Sequential(*list(self.model.classifier.children())[:-1])\n",
        "        self.model.eval()\n",
        "        # Define image transforms\n",
        "        self.transform = transforms.Compose([\n",
        "            transforms.ToTensor(),\n",
        "            transforms.Normalize(mean=[0.485, 0.456, 0.406], std=[0.229, 0.224, 0.225])])\n",
        "\n",
        "    def extract(self, img):\n",
        "        # Convert the image color space\n",
        "        img = cv2.imread(img)\n",
        "        img = canny_filter(img)\n",
        "        # Apply image transforms\n",
        "        img = torch.FloatTensor(img).permute(2, 1, 0).unsqueeze(0)\n",
        "        # Add batch dimension\n",
        "        # Extract Features\n",
        "        device = torch.device('cuda:0' if torch.cuda.is_available() else 'cpu')\n",
        "        net = self.model.to(device)\n",
        "        img = img.to(device)\n",
        "        with torch.no_grad():\n",
        "            feature = net(img).flatten()\n",
        "            feature = feature.to('cpu')\n",
        "            feature = feature.numpy()\n",
        "        img = img.detach()\n",
        "        torch.cuda.empty_cache()\n",
        "        return feature / np.linalg.norm(feature)"
      ],
      "metadata": {
        "id": "HYiqvWZGaMhj"
      },
      "execution_count": 6,
      "outputs": []
    },
    {
      "cell_type": "code",
      "source": [
        "extract_feat = FeatureExtractor()\n",
        "def ReadData(path):\n",
        "  features_dict = {}\n",
        "  for sector in os.listdir(path):\n",
        "    path_sector = os.path.join(path, sector)\n",
        "    # if os.path.exists('/content/drive/MyDrive/features/'+ sector + '.pkl') is False:\n",
        "    tmp = tqdm(os.listdir(path_sector))\n",
        "    for brand in tmp:\n",
        "      path_brand = os.path.join(path_sector, brand)\n",
        "      tmp.set_description(path_brand)\n",
        "      for filename in os.listdir(path_brand):\n",
        "        direct = os.path.join(path_brand, filename)\n",
        "        feature = extract_feat.extract(direct)\n",
        "        features_dict[direct] = feature\n",
        "      # with open('drive/MyDrive/features/'+ sector + '.pkl',\"wb\") as file:\n",
        "      #   pickle.dump(features_dict,file)\n",
        "\n",
        "  return features_dict"
      ],
      "metadata": {
        "colab": {
          "base_uri": "https://localhost:8080/"
        },
        "id": "9xz6xqugamiX",
        "outputId": "58ba6b5d-47c9-4066-a983-5991472c7cc0"
      },
      "execution_count": 7,
      "outputs": [
        {
          "output_type": "stream",
          "name": "stderr",
          "text": [
            "/usr/local/lib/python3.10/dist-packages/torchvision/models/_utils.py:208: UserWarning: The parameter 'pretrained' is deprecated since 0.13 and may be removed in the future, please use 'weights' instead.\n",
            "  warnings.warn(\n",
            "/usr/local/lib/python3.10/dist-packages/torchvision/models/_utils.py:223: UserWarning: Arguments other than a weight enum or `None` for 'weights' are deprecated since 0.13 and may be removed in the future. The current behavior is equivalent to passing `weights=MobileNet_V3_Small_Weights.IMAGENET1K_V1`. You can also use `weights=MobileNet_V3_Small_Weights.DEFAULT` to get the most up-to-date weights.\n",
            "  warnings.warn(msg)\n",
            "Downloading: \"https://download.pytorch.org/models/mobilenet_v3_small-047dcff4.pth\" to /root/.cache/torch/hub/checkpoints/mobilenet_v3_small-047dcff4.pth\n",
            "100%|██████████| 9.83M/9.83M [00:00<00:00, 65.5MB/s]\n"
          ]
        }
      ]
    },
    {
      "cell_type": "code",
      "source": [
        "path = (\"/content/drive/MyDrive/dataset/datasetcopy/trainandtest/train\")\n",
        "features = ReadData(path)"
      ],
      "metadata": {
        "colab": {
          "base_uri": "https://localhost:8080/",
          "height": 372
        },
        "id": "N48x1nyobJVt",
        "outputId": "0a6f4d54-343a-4738-a4cb-076137840b6e"
      },
      "execution_count": 20,
      "outputs": [
        {
          "output_type": "stream",
          "name": "stderr",
          "text": [
            "/content/drive/MyDrive/dataset/datasetcopy/trainandtest/train/Clothes/Msting:  68%|██████▊   | 194/286 [2:47:01<1:19:12, 51.66s/it]\n"
          ]
        },
        {
          "output_type": "error",
          "ename": "KeyboardInterrupt",
          "evalue": "ignored",
          "traceback": [
            "\u001b[0;31m---------------------------------------------------------------------------\u001b[0m",
            "\u001b[0;31mKeyboardInterrupt\u001b[0m                         Traceback (most recent call last)",
            "\u001b[0;32m<ipython-input-20-4d2cf9cf9255>\u001b[0m in \u001b[0;36m<cell line: 2>\u001b[0;34m()\u001b[0m\n\u001b[1;32m      1\u001b[0m \u001b[0mpath\u001b[0m \u001b[0;34m=\u001b[0m \u001b[0;34m(\u001b[0m\u001b[0;34m\"/content/drive/MyDrive/dataset/datasetcopy/trainandtest/train\"\u001b[0m\u001b[0;34m)\u001b[0m\u001b[0;34m\u001b[0m\u001b[0;34m\u001b[0m\u001b[0m\n\u001b[0;32m----> 2\u001b[0;31m \u001b[0mfeatures\u001b[0m \u001b[0;34m=\u001b[0m \u001b[0mReadData\u001b[0m\u001b[0;34m(\u001b[0m\u001b[0mpath\u001b[0m\u001b[0;34m)\u001b[0m\u001b[0;34m\u001b[0m\u001b[0;34m\u001b[0m\u001b[0m\n\u001b[0m",
            "\u001b[0;32m<ipython-input-19-f2e8b6b147c9>\u001b[0m in \u001b[0;36mReadData\u001b[0;34m(path)\u001b[0m\n\u001b[1;32m     11\u001b[0m         \u001b[0;32mfor\u001b[0m \u001b[0mfilename\u001b[0m \u001b[0;32min\u001b[0m \u001b[0mos\u001b[0m\u001b[0;34m.\u001b[0m\u001b[0mlistdir\u001b[0m\u001b[0;34m(\u001b[0m\u001b[0mpath_brand\u001b[0m\u001b[0;34m)\u001b[0m\u001b[0;34m:\u001b[0m\u001b[0;34m\u001b[0m\u001b[0;34m\u001b[0m\u001b[0m\n\u001b[1;32m     12\u001b[0m           \u001b[0mdirect\u001b[0m \u001b[0;34m=\u001b[0m \u001b[0mos\u001b[0m\u001b[0;34m.\u001b[0m\u001b[0mpath\u001b[0m\u001b[0;34m.\u001b[0m\u001b[0mjoin\u001b[0m\u001b[0;34m(\u001b[0m\u001b[0mpath_brand\u001b[0m\u001b[0;34m,\u001b[0m \u001b[0mfilename\u001b[0m\u001b[0;34m)\u001b[0m\u001b[0;34m\u001b[0m\u001b[0;34m\u001b[0m\u001b[0m\n\u001b[0;32m---> 13\u001b[0;31m           \u001b[0mfeature\u001b[0m \u001b[0;34m=\u001b[0m \u001b[0mextract_feat\u001b[0m\u001b[0;34m.\u001b[0m\u001b[0mextract\u001b[0m\u001b[0;34m(\u001b[0m\u001b[0mdirect\u001b[0m\u001b[0;34m)\u001b[0m\u001b[0;34m\u001b[0m\u001b[0;34m\u001b[0m\u001b[0m\n\u001b[0m\u001b[1;32m     14\u001b[0m           \u001b[0mfeatures_dict\u001b[0m\u001b[0;34m[\u001b[0m\u001b[0mdirect\u001b[0m\u001b[0;34m]\u001b[0m \u001b[0;34m=\u001b[0m \u001b[0mfeature\u001b[0m\u001b[0;34m\u001b[0m\u001b[0;34m\u001b[0m\u001b[0m\n\u001b[1;32m     15\u001b[0m         \u001b[0;32mwith\u001b[0m \u001b[0mopen\u001b[0m\u001b[0;34m(\u001b[0m\u001b[0;34m'drive/MyDrive/features/'\u001b[0m\u001b[0;34m+\u001b[0m \u001b[0msector\u001b[0m \u001b[0;34m+\u001b[0m \u001b[0;34m'.pkl'\u001b[0m\u001b[0;34m,\u001b[0m\u001b[0;34m\"wb\"\u001b[0m\u001b[0;34m)\u001b[0m \u001b[0;32mas\u001b[0m \u001b[0mfile\u001b[0m\u001b[0;34m:\u001b[0m\u001b[0;34m\u001b[0m\u001b[0;34m\u001b[0m\u001b[0m\n",
            "\u001b[0;32m<ipython-input-14-9040f5af753d>\u001b[0m in \u001b[0;36mextract\u001b[0;34m(self, img)\u001b[0m\n\u001b[1;32m     20\u001b[0m     \u001b[0;32mdef\u001b[0m \u001b[0mextract\u001b[0m\u001b[0;34m(\u001b[0m\u001b[0mself\u001b[0m\u001b[0;34m,\u001b[0m \u001b[0mimg\u001b[0m\u001b[0;34m)\u001b[0m\u001b[0;34m:\u001b[0m\u001b[0;34m\u001b[0m\u001b[0;34m\u001b[0m\u001b[0m\n\u001b[1;32m     21\u001b[0m         \u001b[0;31m# Convert the image color space\u001b[0m\u001b[0;34m\u001b[0m\u001b[0;34m\u001b[0m\u001b[0m\n\u001b[0;32m---> 22\u001b[0;31m         \u001b[0mimg\u001b[0m \u001b[0;34m=\u001b[0m \u001b[0mcv2\u001b[0m\u001b[0;34m.\u001b[0m\u001b[0mimread\u001b[0m\u001b[0;34m(\u001b[0m\u001b[0mimg\u001b[0m\u001b[0;34m)\u001b[0m\u001b[0;34m\u001b[0m\u001b[0;34m\u001b[0m\u001b[0m\n\u001b[0m\u001b[1;32m     23\u001b[0m         \u001b[0mimg\u001b[0m \u001b[0;34m=\u001b[0m \u001b[0mcanny_filter\u001b[0m\u001b[0;34m(\u001b[0m\u001b[0mimg\u001b[0m\u001b[0;34m)\u001b[0m\u001b[0;34m\u001b[0m\u001b[0;34m\u001b[0m\u001b[0m\n\u001b[1;32m     24\u001b[0m         \u001b[0;31m# Apply image transforms\u001b[0m\u001b[0;34m\u001b[0m\u001b[0;34m\u001b[0m\u001b[0m\n",
            "\u001b[0;31mKeyboardInterrupt\u001b[0m: "
          ]
        }
      ]
    },
    {
      "cell_type": "markdown",
      "source": [
        "KMEANS TO CLUSTERING"
      ],
      "metadata": {
        "id": "q8mjNU0rZ3Bk"
      }
    },
    {
      "cell_type": "code",
      "execution_count": 61,
      "metadata": {
        "colab": {
          "base_uri": "https://localhost:8080/"
        },
        "id": "mlr7Kzh7g3Cd",
        "outputId": "af05579a-67c6-4923-8521-b860e462511b"
      },
      "outputs": [
        {
          "output_type": "stream",
          "name": "stderr",
          "text": [
            "/usr/local/lib/python3.10/dist-packages/sklearn/cluster/_kmeans.py:870: FutureWarning: The default value of `n_init` will change from 10 to 'auto' in 1.4. Set the value of `n_init` explicitly to suppress the warning\n",
            "  warnings.warn(\n"
          ]
        }
      ],
      "source": [
        "#Cluster the features\n",
        "n_clusters=5\n",
        "kmeans = KMeans(n_clusters = n_clusters, random_state=0)\n",
        "kmeans.fit(list(features.values()))\n",
        "labels = kmeans.labels_\n",
        "centers = kmeans.cluster_centers_\n",
        "label = {}\n",
        "label[\"features\"] = features\n",
        "label[\"label\"] = labels\n",
        "label[\"centers\"] = centers"
      ]
    },
    {
      "cell_type": "code",
      "source": [
        "#Load vector features labeled by KMeans to search\n",
        "if os.path.exists('drive/MyDrive/Project/new_clusters.pkl') is True:\n",
        "  with open(\"drive/MyDrive/Project/new_clusters.pkl\",\"rb\") as file:\n",
        "    label = pickle.load(file)\n",
        "else:\n",
        "#Save first time running system not have file .pkl\n",
        "  with open(\"drive/MyDrive/Project/new_clusters.pkl\",\"wb\") as file:\n",
        "    pickle.dump(label,file)"
      ],
      "metadata": {
        "id": "QFaWItWSFjC2"
      },
      "execution_count": 8,
      "outputs": []
    },
    {
      "cell_type": "markdown",
      "source": [
        "RETRIEVAL THE LOGO IMAGE AFTER DETECTED"
      ],
      "metadata": {
        "id": "yp0ifAtwZ9t6"
      }
    },
    {
      "cell_type": "code",
      "execution_count": 62,
      "metadata": {
        "colab": {
          "base_uri": "https://localhost:8080/"
        },
        "id": "qe714Y-VF1RI",
        "outputId": "94527968-45c4-4e96-cf3d-7e12b9900da9"
      },
      "outputs": [
        {
          "output_type": "stream",
          "name": "stdout",
          "text": [
            "/content/drive/MyDrive/dataset/datasetcopy/trainandtest/train/Transportation/Puch/75.jpg:  0.8881374597549438\n",
            "/content/drive/MyDrive/dataset/datasetcopy/trainandtest/train/Transportation/Lamborghini/26.jpg:  0.8853529095649719\n",
            "/content/drive/MyDrive/dataset/datasetcopy/trainandtest/train/Transportation/Lamborghini/32.jpg:  0.869438886642456\n",
            "drive/MyDrive/dataset/datasetcopy/trainandtest/train/Leisure/Burtons/42.jpg:  0.8400683403015137\n",
            "drive/MyDrive/dataset/datasetcopy/trainandtest/train/Leisure/Burtons/55.jpg:  0.8400683403015137\n",
            "/content/drive/MyDrive/dataset/datasetcopy/trainandtest/train/Transportation/Ducati/8.jpg:  0.8362550139427185\n",
            "/content/drive/MyDrive/dataset/datasetcopy/trainandtest/train/Necessities/Crayola/41.jpg:  0.8358809947967529\n",
            "/content/drive/MyDrive/dataset/datasetcopy/trainandtest/train/Transportation/Dacia/39.jpg:  0.8349721431732178\n",
            "/content/drive/MyDrive/dataset/datasetcopy/trainandtest/train/Transportation/Dacia/3.jpg:  0.8334222435951233\n",
            "/content/drive/MyDrive/dataset/datasetcopy/trainandtest/train/Clothes/ALCO/37.jpg:  0.8291582465171814\n",
            "/content/drive/MyDrive/dataset/datasetcopy/trainandtest/train/Transportation/Dacia/1.jpg:  0.8287338614463806\n",
            "/content/drive/MyDrive/dataset/datasetcopy/trainandtest/train/Transportation/Dacia/5.jpg:  0.8287338614463806\n",
            "/content/drive/MyDrive/dataset/datasetcopy/trainandtest/train/Transportation/Ducati/66.jpg:  0.8283907175064087\n",
            "/content/drive/MyDrive/dataset/datasetcopy/trainandtest/train/Transportation/Ducati/4.jpg:  0.8280523419380188\n",
            "drive/MyDrive/dataset/datasetcopy/trainandtest/train/Electronic/RCA/50.jpg:  0.8257394433021545\n",
            "drive/MyDrive/dataset/datasetcopy/trainandtest/train/Leisure/StarEnergy/66.jpg:  0.8249852657318115\n",
            "/content/drive/MyDrive/dataset/datasetcopy/trainandtest/train/Necessities/Gillette/2.jpg:  0.8246116042137146\n",
            "/content/drive/MyDrive/dataset/datasetcopy/trainandtest/train/Transportation/Ducati/1.jpg:  0.8239471912384033\n",
            "/content/drive/MyDrive/dataset/datasetcopy/trainandtest/train/Transportation/Ducati/9.jpg:  0.8239471912384033\n",
            "/content/drive/MyDrive/dataset/datasetcopy/trainandtest/train/Transportation/Dacia/31.jpg:  0.8217623829841614\n"
          ]
        }
      ],
      "source": [
        "input_dir = \"/content/crop.jpg\"\n",
        "top_k = 20\n",
        "\n",
        "input_fea = extract_feat.extract(input_dir)\n",
        "cos = torch.nn.CosineSimilarity(dim=0, eps=1e-6)\n",
        "#Predict the label of input\n",
        "max = 0\n",
        "for x in range(len(label[\"centers\"])):\n",
        "  output = cos(torch.Tensor(label[\"centers\"][x]), torch.Tensor(input_fea))\n",
        "  output = float(output)\n",
        "  if output > max:\n",
        "    predict_label = x\n",
        "    max = output\n",
        "#Take all path in label to compare\n",
        "indices = [i for i, x in enumerate(label[\"label\"]) if x == predict_label]\n",
        "feature_key = list(label[\"features\"].keys())\n",
        "result = {}\n",
        "for i in indices:\n",
        "  vector_fea = label[\"features\"][feature_key[i]]\n",
        "  output = cos(torch.Tensor(vector_fea), torch.Tensor(input_fea))\n",
        "  output = output.detach() #for gpu\n",
        "  result[feature_key[i]] = float(output)\n",
        "\n",
        "#Sort similarity and take k_top\n",
        "result = dict(sorted(result.items(), key=lambda item: item[1], reverse = True))\n",
        "result = {list(result.keys())[x]: list(result.values())[x] for x in range(top_k)}\n",
        "\n",
        "#Save result image and print the similarity:\n",
        "if os.path.isdir('drive/MyDrive/Result_Img') is True and len(os.listdir('drive/MyDrive/Result_Img')) != 0:\n",
        "  for filename in os.listdir(\"drive/MyDrive/Result_Img\"):\n",
        "    file = os.path.join(\"drive/MyDrive/Result_Img\", filename)\n",
        "    os.remove(file)\n",
        "elif(os.path.isdir('drive/MyDrive/Result_Img') is False):\n",
        "  os.mkdir('drive/MyDrive/Result_Img')\n",
        "for x in result:\n",
        "  print(x+\": \", result[x])\n",
        "  img = Image.open(x)\n",
        "  tmp = x.split('/')[-2] + '_' + x.split('/')[-1]\n",
        "  res_path = 'drive/MyDrive/Result_Img/' + tmp\n",
        "  img.save(res_path)"
      ]
    }
  ],
  "metadata": {
    "colab": {
      "provenance": [],
      "gpuType": "T4"
    },
    "kernelspec": {
      "display_name": "Python 3",
      "name": "python3"
    },
    "language_info": {
      "codemirror_mode": {
        "name": "ipython",
        "version": 3
      },
      "file_extension": ".py",
      "mimetype": "text/x-python",
      "name": "python",
      "nbconvert_exporter": "python",
      "pygments_lexer": "ipython3",
      "version": "3.10.12"
    },
    "accelerator": "GPU"
  },
  "nbformat": 4,
  "nbformat_minor": 0
}